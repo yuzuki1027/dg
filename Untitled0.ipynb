{
  "nbformat": 4,
  "nbformat_minor": 0,
  "metadata": {
    "colab": {
      "provenance": []
    },
    "kernelspec": {
      "name": "python3",
      "display_name": "Python 3"
    },
    "language_info": {
      "name": "python"
    }
  },
  "cells": [
    {
      "cell_type": "code",
      "source": [
        "from google.colab import drive\n",
        "drive.mount('/content/drive')"
      ],
      "metadata": {
        "colab": {
          "base_uri": "https://localhost:8080/"
        },
        "id": "z1VSwJXIzwiS",
        "outputId": "10517491-131b-4241-9361-1a5d6bef7821"
      },
      "execution_count": null,
      "outputs": [
        {
          "output_type": "stream",
          "name": "stdout",
          "text": [
            "Mounted at /content/drive\n"
          ]
        }
      ]
    },
    {
      "cell_type": "code",
      "source": [
        "import json\n",
        " \n",
        "# CSVファイルの読み込み\n",
        "with open('/content/drive/MyDrive/デジコン/action.csv', 'r') as f:\n",
        "    dreader = csv.DictReader(f)\n",
        "    d_list = [row for row in dreader]\n",
        "            \n",
        "# 文字列として出力\n",
        "json_text = json.dumps(d_list) \n",
        "print(json_text)"
      ],
      "metadata": {
        "colab": {
          "base_uri": "https://localhost:8080/"
        },
        "id": "T-3sWucXsjAK",
        "outputId": "d078af0f-21b2-4e31-d391-fbe1101f15c8"
      },
      "execution_count": null,
      "outputs": [
        {
          "output_type": "stream",
          "name": "stdout",
          "text": [
            "[{\"Title\": \"MORTAL \\u30e2\\u30fc\\u30bf\\u30eb(\\u5439\\u66ff\\u7248)\", \"End\": \"3\\u65e5\"}, {\"Title\": \"\\u30d7\\u30ea\\u30ba\\u30f3\\u30fb\\u30a8\\u30b9\\u30b1\\u30fc\\u30d7\\u3000\\u8131\\u51fa\\u3078\\u306e10\\u306e\\u9375(\\u5439\\u66ff\\u7248)\", \"End\": \"3\\u65e5\"}, {\"Title\": \"\\u6771\\u6d77\\u9053\\u56db\\u8c37\\u602a\\u8ac7\", \"End\": \"13\\u65e5\"}, {\"Title\": \"\\u30b8\\u30a7\\u30ce\\u30b5\\u30a4\\u30c9\\u30fb\\u30b2\\u30fc\\u30e0\\uff08\\u5439\\u66ff\\u7248\\uff09\", \"End\": \"10\\u65e5\"}, {\"Title\": \"\\u4e0b\\u753a\\u4efb\\u4fa0\\u4f1d\\u3000\\u9df9\", \"End\": \"12\\u65e5\"}, {\"Title\": \"\\u5730\\u7344\", \"End\": \"13\\u65e5\"}, {\"Title\": \"\\u4e0b\\u753a\\u4efb\\u4fa0\\u4f1d \\u9df92\", \"End\": \"12\\u65e5\"}, {\"Title\": \"\\u767d\\u7dda\\u79d8\\u5bc6\\u5730\\u5e2f\", \"End\": \"13\\u65e5\"}, {\"Title\": \"\\u9ed2\\u7dda\\u5730\\u5e2f\", \"End\": \"13\\u65e5\"}, {\"Title\": \"\\u9ec4\\u7dda\\u5730\\u5e2f\", \"End\": \"13\\u65e5\"}, {\"Title\": \"\\u706b\\u7dda\\u5730\\u5e2f\", \"End\": \"13\\u65e5\"}, {\"Title\": \"\\u30a2\\u30d3\\u30b2\\u30a4\\u30eb\\u3000\\u30af\\u30ed\\u30fc\\u30ba\\u30c9\\u30fb\\u30ef\\u30fc\\u30eb\\u30c9(\\u5439\\u66ff\\u7248)\", \"End\": \"6\\u65e5\"}]\n"
          ]
        }
      ]
    },
    {
      "cell_type": "code",
      "source": [
        "import json\n",
        "import csv\n",
        "json_list = []\n",
        "\n",
        "with open('/content/drive/MyDrive/デジコン/page1.csv', 'r') as f:\n",
        "    for row in csv.DictReader(f):\n",
        "        json_list.append(row)\n",
        "\n",
        "# JSON ファイルへの書き込み\n",
        "with open('/content/drive/MyDrive/デジコン/page1.json', 'w') as f:\n",
        "    json.dump(json_list, f)\n",
        "\n",
        "# JSONファイルのロード\n",
        "with open('/content/drive/MyDrive/デジコン/page1.json', 'r') as f:\n",
        "    json_output = json.load(f)"
      ],
      "metadata": {
        "id": "_gF0kiGpt1bv"
      },
      "execution_count": null,
      "outputs": []
    },
    {
      "cell_type": "code",
      "source": [
        "with open('/content/drive/MyDrive/デジコン/page1.json', 'wt') as f:\n",
        "    json.dump(json_output, f, ensure_ascii=False)"
      ],
      "metadata": {
        "id": "d2wwhmzowZ4G"
      },
      "execution_count": null,
      "outputs": []
    },
    {
      "cell_type": "code",
      "source": [
        "with open('/content/drive/MyDrive/デジコン/page1.json') as f:\n",
        "    print(f.read())"
      ],
      "metadata": {
        "id": "AjaC6uyTwr3l",
        "outputId": "e76cec3e-4d4a-4d2b-c5ec-0ddc99e83a7e",
        "colab": {
          "base_uri": "https://localhost:8080/"
        }
      },
      "execution_count": null,
      "outputs": [
        {
          "output_type": "stream",
          "name": "stdout",
          "text": [
            "[{\"﻿Titles\": \"<h1 class=\\\"_2IIDsE _2sL6wP\\\" data-automation-id=\\\"title\\\">ワールドトリガー</h1>\", \"Ends\": \"<span class=\\\"_36qUej _1jE1N6\\\">Primeでの配信は25時間以内に終了</span>\"}, {\"﻿Titles\": \"<h1 class=\\\"_2IIDsE _2sL6wP\\\" data-automation-id=\\\"title\\\">ワールドトリガー 2ndシーズン</h1>\", \"Ends\": \"<span class=\\\"_36qUej _1jE1N6\\\">シーズン1のPrimeでの配信は25時間以内に終了</span>\"}, {\"﻿Titles\": \"<h1 class=\\\"_2IIDsE _2sL6wP\\\" data-automation-id=\\\"title\\\">ソードアート・オンラインⅡ</h1>\", \"Ends\": \"<span class=\\\"_36qUej _1jE1N6\\\">シーズン1のPrimeでの配信は3日以内に終了</span>\"}]\n"
          ]
        }
      ]
    }
  ]
}