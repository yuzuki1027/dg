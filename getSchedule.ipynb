{
 "cells": [
  {
   "cell_type": "code",
   "execution_count": 28,
   "id": "86bb5bd5",
   "metadata": {},
   "outputs": [
    {
     "name": "stdout",
     "output_type": "stream",
     "text": [
      "Requirement already satisfied: selenium in c:\\users\\hina\\appdata\\local\\programs\\python\\python311\\lib\\site-packages (4.7.2)\n",
      "Requirement already satisfied: urllib3[socks]~=1.26 in c:\\users\\hina\\appdata\\local\\programs\\python\\python311\\lib\\site-packages (from selenium) (1.26.14)\n",
      "Requirement already satisfied: trio~=0.17 in c:\\users\\hina\\appdata\\local\\programs\\python\\python311\\lib\\site-packages (from selenium) (0.22.0)\n",
      "Requirement already satisfied: trio-websocket~=0.9 in c:\\users\\hina\\appdata\\local\\programs\\python\\python311\\lib\\site-packages (from selenium) (0.9.2)\n",
      "Requirement already satisfied: certifi>=2021.10.8 in c:\\users\\hina\\appdata\\local\\programs\\python\\python311\\lib\\site-packages (from selenium) (2022.12.7)\n",
      "Requirement already satisfied: attrs>=19.2.0 in c:\\users\\hina\\appdata\\local\\programs\\python\\python311\\lib\\site-packages (from trio~=0.17->selenium) (22.2.0)\n",
      "Requirement already satisfied: sortedcontainers in c:\\users\\hina\\appdata\\local\\programs\\python\\python311\\lib\\site-packages (from trio~=0.17->selenium) (2.4.0)\n",
      "Requirement already satisfied: async-generator>=1.9 in c:\\users\\hina\\appdata\\local\\programs\\python\\python311\\lib\\site-packages (from trio~=0.17->selenium) (1.10)\n",
      "Requirement already satisfied: idna in c:\\users\\hina\\appdata\\local\\programs\\python\\python311\\lib\\site-packages (from trio~=0.17->selenium) (3.4)\n",
      "Requirement already satisfied: outcome in c:\\users\\hina\\appdata\\local\\programs\\python\\python311\\lib\\site-packages (from trio~=0.17->selenium) (1.2.0)\n",
      "Requirement already satisfied: sniffio in c:\\users\\hina\\appdata\\local\\programs\\python\\python311\\lib\\site-packages (from trio~=0.17->selenium) (1.3.0)\n",
      "Requirement already satisfied: cffi>=1.14 in c:\\users\\hina\\appdata\\local\\programs\\python\\python311\\lib\\site-packages (from trio~=0.17->selenium) (1.15.1)\n",
      "Requirement already satisfied: wsproto>=0.14 in c:\\users\\hina\\appdata\\local\\programs\\python\\python311\\lib\\site-packages (from trio-websocket~=0.9->selenium) (1.2.0)\n",
      "Requirement already satisfied: PySocks!=1.5.7,<2.0,>=1.5.6 in c:\\users\\hina\\appdata\\local\\programs\\python\\python311\\lib\\site-packages (from urllib3[socks]~=1.26->selenium) (1.7.1)\n",
      "Requirement already satisfied: pycparser in c:\\users\\hina\\appdata\\local\\programs\\python\\python311\\lib\\site-packages (from cffi>=1.14->trio~=0.17->selenium) (2.21)\n",
      "Requirement already satisfied: h11<1,>=0.9.0 in c:\\users\\hina\\appdata\\local\\programs\\python\\python311\\lib\\site-packages (from wsproto>=0.14->trio-websocket~=0.9->selenium) (0.14.0)\n"
     ]
    }
   ],
   "source": [
    "! pip install selenium"
   ]
  },
  {
   "cell_type": "code",
   "execution_count": 29,
   "id": "580e53e3",
   "metadata": {},
   "outputs": [
    {
     "name": "stdout",
     "output_type": "stream",
     "text": [
      "Requirement already satisfied: BeautifulSoup4 in c:\\users\\hina\\appdata\\local\\programs\\python\\python311\\lib\\site-packages (4.11.1)\n",
      "Requirement already satisfied: soupsieve>1.2 in c:\\users\\hina\\appdata\\local\\programs\\python\\python311\\lib\\site-packages (from BeautifulSoup4) (2.3.2.post1)\n"
     ]
    }
   ],
   "source": [
    "!pip install BeautifulSoup4"
   ]
  },
  {
   "cell_type": "code",
   "execution_count": 30,
   "id": "d249c61d",
   "metadata": {},
   "outputs": [
    {
     "name": "stdout",
     "output_type": "stream",
     "text": [
      "Requirement already satisfied: requests in c:\\users\\hina\\appdata\\local\\programs\\python\\python311\\lib\\site-packages (2.28.2)Note: you may need to restart the kernel to use updated packages.\n",
      "\n",
      "Requirement already satisfied: charset-normalizer<4,>=2 in c:\\users\\hina\\appdata\\local\\programs\\python\\python311\\lib\\site-packages (from requests) (3.0.1)\n",
      "Requirement already satisfied: idna<4,>=2.5 in c:\\users\\hina\\appdata\\local\\programs\\python\\python311\\lib\\site-packages (from requests) (3.4)\n",
      "Requirement already satisfied: urllib3<1.27,>=1.21.1 in c:\\users\\hina\\appdata\\local\\programs\\python\\python311\\lib\\site-packages (from requests) (1.26.14)\n",
      "Requirement already satisfied: certifi>=2017.4.17 in c:\\users\\hina\\appdata\\local\\programs\\python\\python311\\lib\\site-packages (from requests) (2022.12.7)\n"
     ]
    }
   ],
   "source": [
    "pip install requests"
   ]
  },
  {
   "cell_type": "code",
   "execution_count": 31,
   "id": "66b96a18",
   "metadata": {},
   "outputs": [],
   "source": [
    "import requests\n",
    "from bs4 import BeautifulSoup\n",
    "from bs4.element import Tag"
   ]
  },
  {
   "cell_type": "code",
   "execution_count": 32,
   "id": "8470097d",
   "metadata": {},
   "outputs": [],
   "source": [
    "from pathlib import Path"
   ]
  },
  {
   "cell_type": "code",
   "execution_count": 33,
   "id": "e9666b5c",
   "metadata": {},
   "outputs": [],
   "source": [
    "import csv"
   ]
  },
  {
   "cell_type": "code",
   "execution_count": 34,
   "id": "03d6a9db",
   "metadata": {},
   "outputs": [
    {
     "data": {
      "text/plain": [
       "['https://www.amazon.co.jp//%E7%AC%AC%EF%BC%94%E8%A9%B1-%E8%A6%AA%E5%AD%90%E3%81%AE%E5%86%8D%E4%BC%9A/dp/B09Q58SX6R',\n",
       " 'https://www.amazon.co.jp//%E7%AC%AC55%E8%A9%B1-%E3%83%99%E3%83%BC%E3%82%AB%E3%83%AA%E3%83%83%E3%82%AF%E3%82%B9/dp/B08YY3HD3W',\n",
       " 'https://www.amazon.co.jp//%E7%AC%AC73%E8%A9%B1-%E6%9C%AA%E6%9D%A5%E3%81%B8/dp/B00R5M3H42',\n",
       " 'https://www.amazon.co.jp//%E4%BA%8C%E3%81%A4%E3%81%AE%E6%88%A6%E5%A0%B4/dp/B086WP6YGF',\n",
       " 'https://www.amazon.co.jp//%E9%BB%92%E7%AB%9C%E3%82%92%E7%A9%BF%E3%81%A4%E8%80%85/dp/B07TW4CJ1Q',\n",
       " 'https://www.amazon.co.jp//%E8%A6%9A%E6%82%9F/dp/B09J1XNY54',\n",
       " 'https://www.amazon.co.jp//%E3%80%8E%E6%96%B0%E3%81%9F%E3%81%AA%E3%82%8B%E8%A9%A6%E7%B7%B4%E3%80%8F/dp/B01JGUAYLO',\n",
       " 'https://www.amazon.co.jp//%E3%80%8E%E9%9D%99%E3%81%8B%E3%81%AA%E3%82%8B%E6%88%A6%E5%A0%B4%E3%80%8F/dp/B01JGTWMM4',\n",
       " 'https://www.amazon.co.jp//%E3%82%B8%E3%83%A7%E3%83%B3%E3%83%BB%E3%82%A6%E3%82%A3%E3%83%83%E3%82%AF%EF%BC%9A%E3%83%81%E3%83%A3%E3%83%97%E3%82%BF%E3%83%BC%EF%BC%92-%E5%90%B9%E6%9B%BF%E7%89%88-%E3%82%AD%E3%82%A2%E3%83%8C%E3%83%BB%E3%83%AA%E3%83%BC%E3%83%96%E3%82%B9/dp/B077JK1H1B',\n",
       " 'https://www.amazon.co.jp//%E3%82%B8%E3%83%A7%E3%83%B3%E3%83%BB%E3%82%A6%E3%82%A3%E3%83%83%E3%82%AF-%E5%90%B9%E6%9B%BF%E7%89%88-%E3%82%AD%E3%82%A2%E3%83%8C%E3%83%BB%E3%83%AA%E3%83%BC%E3%83%96%E3%82%B9/dp/B01BHBT3NA',\n",
       " 'https://www.amazon.co.jp//%E5%B8%B0%E9%82%84/dp/B01MQ0EOT4',\n",
       " 'https://www.amazon.co.jp//%E3%82%B8%E3%83%A7%E3%83%B3%E3%83%BB%E3%82%A6%E3%82%A3%E3%83%83%E3%82%AF-%E5%AD%97%E5%B9%95%E7%89%88-%E3%82%AD%E3%82%A2%E3%83%8C%E3%83%BB%E3%83%AA%E3%83%BC%E3%83%96%E3%82%B9/dp/B01BHBT60K',\n",
       " 'https://www.amazon.co.jp//%E3%82%B8%E3%83%A7%E3%83%B3%E3%83%BB%E3%82%A6%E3%82%A3%E3%83%83%E3%82%AF%EF%BC%9A%E3%83%81%E3%83%A3%E3%83%97%E3%82%BF%E3%83%BC%EF%BC%92%EF%BC%88%E5%AD%97%E5%B9%95%E7%89%88%EF%BC%89-%E3%82%AD%E3%82%A2%E3%83%8C%E3%83%BB%E3%83%AA%E3%83%BC%E3%83%96%E3%82%B9/dp/B077JM6ZMT',\n",
       " 'https://www.amazon.co.jp//%E7%AC%AC1%E8%A9%B1-%E8%A5%B2%E6%9D%A5/dp/B08SQ92ZZR',\n",
       " 'https://www.amazon.co.jp//%E8%B6%85%E9%9B%BB%E7%A3%81%E7%A0%B2-%E3%83%AC%E3%83%BC%E3%83%AB%E3%82%AC%E3%83%B3-%C3%97%E5%BF%83%E7%90%86%E6%8E%8C%E6%8F%A1-%E3%83%A1%E3%83%B3%E3%82%BF%E3%83%AB%E3%82%A2%E3%82%A6%E3%83%88/dp/B083WK8XDW',\n",
       " 'https://www.amazon.co.jp//%E7%AC%AC4%E8%A9%B1%E3%80%8CGGO%E3%80%8D/dp/B07HKR9YMV']"
      ]
     },
     "execution_count": 34,
     "metadata": {},
     "output_type": "execute_result"
    }
   ],
   "source": [
    "link_list =[]\n",
    "with open(\"Links/Action&Adventure/page1.csv\",encoding=\"utf-8\") as csv_file :\n",
    "    reader = csv.reader(csv_file)\n",
    "    \n",
    "    for row in reader :\n",
    "        link_list.append(str(row[0]))\n",
    "\n",
    "del link_list[0]\n",
    "\n",
    "link_list"
   ]
  },
  {
   "cell_type": "code",
   "execution_count": 35,
   "id": "148b129e",
   "metadata": {},
   "outputs": [
    {
     "name": "stdout",
     "output_type": "stream",
     "text": [
      "Requirement already satisfied: Pillow in c:\\users\\hina\\appdata\\local\\programs\\python\\python311\\lib\\site-packages (9.4.0)\n"
     ]
    }
   ],
   "source": [
    "!pip install Pillow"
   ]
  },
  {
   "cell_type": "code",
   "execution_count": 36,
   "id": "7081ddde",
   "metadata": {},
   "outputs": [],
   "source": [
    "import io\n",
    "import os"
   ]
  },
  {
   "cell_type": "code",
   "execution_count": 37,
   "id": "94c1befc",
   "metadata": {},
   "outputs": [
    {
     "name": "stdout",
     "output_type": "stream",
     "text": [
      "Requirement already satisfied: pandas in c:\\users\\hina\\appdata\\local\\programs\\python\\python311\\lib\\site-packages (1.5.2)\n",
      "Requirement already satisfied: python-dateutil>=2.8.1 in c:\\users\\hina\\appdata\\local\\programs\\python\\python311\\lib\\site-packages (from pandas) (2.8.2)\n",
      "Requirement already satisfied: pytz>=2020.1 in c:\\users\\hina\\appdata\\local\\programs\\python\\python311\\lib\\site-packages (from pandas) (2022.7)\n",
      "Requirement already satisfied: numpy>=1.21.0 in c:\\users\\hina\\appdata\\local\\programs\\python\\python311\\lib\\site-packages (from pandas) (1.24.1)\n",
      "Requirement already satisfied: six>=1.5 in c:\\users\\hina\\appdata\\local\\programs\\python\\python311\\lib\\site-packages (from python-dateutil>=2.8.1->pandas) (1.16.0)\n"
     ]
    }
   ],
   "source": [
    "!pip install pandas\n",
    "import pandas as pd"
   ]
  },
  {
   "cell_type": "code",
   "execution_count": 38,
   "id": "0015aa92",
   "metadata": {},
   "outputs": [
    {
     "data": {
      "text/plain": [
       "[<h1 class=\"_2IIDsE _2sL6wP\" data-automation-id=\"title\">ありふれた職業で世界最強</h1>,\n",
       " <h1 class=\"_2IIDsE _2sL6wP\" data-automation-id=\"title\">ミラキュラス レディバグ＆シャノワール</h1>,\n",
       " None,\n",
       " <h1 class=\"_2IIDsE _2sL6wP\" data-automation-id=\"title\">キングダム</h1>,\n",
       " <h1 class=\"_2IIDsE _2sL6wP\" data-automation-id=\"title\">ありふれた職業で世界最強</h1>,\n",
       " <h1 class=\"_2IIDsE _2sL6wP\" data-automation-id=\"title\">ワールドトリガー 3rdシーズン</h1>,\n",
       " <h1 class=\"_2IIDsE _2sL6wP\" data-automation-id=\"title\">キングダム</h1>,\n",
       " None,\n",
       " <h1 class=\"_2IIDsE _2sL6wP\" data-automation-id=\"title\">ジョン・ウィック：チャプター２(吹替版)</h1>,\n",
       " None,\n",
       " <h1 class=\"_2IIDsE _2sL6wP\" data-automation-id=\"title\">ソードアート・オンライン</h1>,\n",
       " <h1 class=\"_2IIDsE _2sL6wP\" data-automation-id=\"title\">ジョン・ウィック(字幕版)</h1>,\n",
       " <h1 class=\"_2IIDsE _2sL6wP\" data-automation-id=\"title\">ジョン・ウィック：チャプター２（字幕版）</h1>,\n",
       " <h1 class=\"_2IIDsE _2sL6wP\" data-automation-id=\"title\">ワールドトリガー 2ndシーズン</h1>,\n",
       " None,\n",
       " None]"
      ]
     },
     "execution_count": 38,
     "metadata": {},
     "output_type": "execute_result"
    }
   ],
   "source": [
    "titles=[]\n",
    "\n",
    "for i in range(len(link_list)) :\n",
    "    res = requests.get(link_list[i])\n",
    "    soup = BeautifulSoup(res.text, \"html.parser\")\n",
    "    titles_ = soup.find(\"h1\",class_=\"_2IIDsE _2sL6wP\")\n",
    "    titles.append(titles_)\n",
    "    \n",
    "titles"
   ]
  },
  {
   "cell_type": "code",
   "execution_count": 39,
   "id": "8c163e50",
   "metadata": {},
   "outputs": [
    {
     "data": {
      "text/plain": [
       "[None,\n",
       " None,\n",
       " None,\n",
       " <span class=\"_36qUej _1jE1N6\">Primeでの配信は7日以内に終了</span>,\n",
       " None,\n",
       " None,\n",
       " <span class=\"_36qUej _1jE1N6\">Primeでの配信は24時間41分以内に終了</span>,\n",
       " None,\n",
       " None,\n",
       " None,\n",
       " None,\n",
       " None,\n",
       " None,\n",
       " None,\n",
       " <span class=\"_36qUej _1jE1N6\">シーズン1のPrimeでの配信は11日以内に終了</span>,\n",
       " None]"
      ]
     },
     "execution_count": 39,
     "metadata": {},
     "output_type": "execute_result"
    }
   ],
   "source": [
    "ends=[]\n",
    "\n",
    "for i in range(len(link_list)) :\n",
    "    res = requests.get(link_list[i])\n",
    "    soup = BeautifulSoup(res.content, \"html.parser\")\n",
    "    ends_ = soup.find(\"span\",class_=\"_36qUej _1jE1N6\")\n",
    "    ends.append(ends_)\n",
    "\n",
    "ends"
   ]
  },
  {
   "cell_type": "code",
   "execution_count": 40,
   "id": "542859f2",
   "metadata": {},
   "outputs": [],
   "source": [
    "due_list = list( zip(titles, ends)) "
   ]
  },
  {
   "cell_type": "code",
   "execution_count": 41,
   "id": "7710dd5a",
   "metadata": {},
   "outputs": [
    {
     "data": {
      "text/html": [
       "<div>\n",
       "<style scoped>\n",
       "    .dataframe tbody tr th:only-of-type {\n",
       "        vertical-align: middle;\n",
       "    }\n",
       "\n",
       "    .dataframe tbody tr th {\n",
       "        vertical-align: top;\n",
       "    }\n",
       "\n",
       "    .dataframe thead th {\n",
       "        text-align: right;\n",
       "    }\n",
       "</style>\n",
       "<table border=\"1\" class=\"dataframe\">\n",
       "  <thead>\n",
       "    <tr style=\"text-align: right;\">\n",
       "      <th></th>\n",
       "      <th>Titles</th>\n",
       "      <th>Ends</th>\n",
       "    </tr>\n",
       "  </thead>\n",
       "  <tbody>\n",
       "    <tr>\n",
       "      <th>0</th>\n",
       "      <td>[ありふれた職業で世界最強]</td>\n",
       "      <td>None</td>\n",
       "    </tr>\n",
       "    <tr>\n",
       "      <th>1</th>\n",
       "      <td>[ミラキュラス レディバグ＆シャノワール]</td>\n",
       "      <td>None</td>\n",
       "    </tr>\n",
       "    <tr>\n",
       "      <th>2</th>\n",
       "      <td>None</td>\n",
       "      <td>None</td>\n",
       "    </tr>\n",
       "    <tr>\n",
       "      <th>3</th>\n",
       "      <td>[キングダム]</td>\n",
       "      <td>[Primeでの配信は7日以内に終了]</td>\n",
       "    </tr>\n",
       "    <tr>\n",
       "      <th>4</th>\n",
       "      <td>[ありふれた職業で世界最強]</td>\n",
       "      <td>None</td>\n",
       "    </tr>\n",
       "    <tr>\n",
       "      <th>5</th>\n",
       "      <td>[ワールドトリガー 3rdシーズン]</td>\n",
       "      <td>None</td>\n",
       "    </tr>\n",
       "    <tr>\n",
       "      <th>6</th>\n",
       "      <td>[キングダム]</td>\n",
       "      <td>[Primeでの配信は24時間41分以内に終了]</td>\n",
       "    </tr>\n",
       "    <tr>\n",
       "      <th>7</th>\n",
       "      <td>None</td>\n",
       "      <td>None</td>\n",
       "    </tr>\n",
       "    <tr>\n",
       "      <th>8</th>\n",
       "      <td>[ジョン・ウィック：チャプター２(吹替版)]</td>\n",
       "      <td>None</td>\n",
       "    </tr>\n",
       "    <tr>\n",
       "      <th>9</th>\n",
       "      <td>None</td>\n",
       "      <td>None</td>\n",
       "    </tr>\n",
       "    <tr>\n",
       "      <th>10</th>\n",
       "      <td>[ソードアート・オンライン]</td>\n",
       "      <td>None</td>\n",
       "    </tr>\n",
       "    <tr>\n",
       "      <th>11</th>\n",
       "      <td>[ジョン・ウィック(字幕版)]</td>\n",
       "      <td>None</td>\n",
       "    </tr>\n",
       "    <tr>\n",
       "      <th>12</th>\n",
       "      <td>[ジョン・ウィック：チャプター２（字幕版）]</td>\n",
       "      <td>None</td>\n",
       "    </tr>\n",
       "    <tr>\n",
       "      <th>13</th>\n",
       "      <td>[ワールドトリガー 2ndシーズン]</td>\n",
       "      <td>None</td>\n",
       "    </tr>\n",
       "    <tr>\n",
       "      <th>14</th>\n",
       "      <td>None</td>\n",
       "      <td>[シーズン1のPrimeでの配信は11日以内に終了]</td>\n",
       "    </tr>\n",
       "    <tr>\n",
       "      <th>15</th>\n",
       "      <td>None</td>\n",
       "      <td>None</td>\n",
       "    </tr>\n",
       "  </tbody>\n",
       "</table>\n",
       "</div>"
      ],
      "text/plain": [
       "                    Titles                        Ends\n",
       "0           [ありふれた職業で世界最強]                        None\n",
       "1    [ミラキュラス レディバグ＆シャノワール]                        None\n",
       "2                     None                        None\n",
       "3                  [キングダム]         [Primeでの配信は7日以内に終了]\n",
       "4           [ありふれた職業で世界最強]                        None\n",
       "5       [ワールドトリガー 3rdシーズン]                        None\n",
       "6                  [キングダム]    [Primeでの配信は24時間41分以内に終了]\n",
       "7                     None                        None\n",
       "8   [ジョン・ウィック：チャプター２(吹替版)]                        None\n",
       "9                     None                        None\n",
       "10          [ソードアート・オンライン]                        None\n",
       "11         [ジョン・ウィック(字幕版)]                        None\n",
       "12  [ジョン・ウィック：チャプター２（字幕版）]                        None\n",
       "13      [ワールドトリガー 2ndシーズン]                        None\n",
       "14                    None  [シーズン1のPrimeでの配信は11日以内に終了]\n",
       "15                    None                        None"
      ]
     },
     "execution_count": 41,
     "metadata": {},
     "output_type": "execute_result"
    }
   ],
   "source": [
    "df = pd.DataFrame(due_list, columns =[\"Titles\", \"Ends\"])\n",
    "df"
   ]
  },
  {
   "cell_type": "code",
   "execution_count": 42,
   "id": "dd806142",
   "metadata": {},
   "outputs": [
    {
     "data": {
      "text/html": [
       "<div>\n",
       "<style scoped>\n",
       "    .dataframe tbody tr th:only-of-type {\n",
       "        vertical-align: middle;\n",
       "    }\n",
       "\n",
       "    .dataframe tbody tr th {\n",
       "        vertical-align: top;\n",
       "    }\n",
       "\n",
       "    .dataframe thead th {\n",
       "        text-align: right;\n",
       "    }\n",
       "</style>\n",
       "<table border=\"1\" class=\"dataframe\">\n",
       "  <thead>\n",
       "    <tr style=\"text-align: right;\">\n",
       "      <th></th>\n",
       "      <th>Titles</th>\n",
       "      <th>Ends</th>\n",
       "    </tr>\n",
       "  </thead>\n",
       "  <tbody>\n",
       "    <tr>\n",
       "      <th>3</th>\n",
       "      <td>[キングダム]</td>\n",
       "      <td>[Primeでの配信は7日以内に終了]</td>\n",
       "    </tr>\n",
       "    <tr>\n",
       "      <th>6</th>\n",
       "      <td>[キングダム]</td>\n",
       "      <td>[Primeでの配信は24時間41分以内に終了]</td>\n",
       "    </tr>\n",
       "  </tbody>\n",
       "</table>\n",
       "</div>"
      ],
      "text/plain": [
       "    Titles                      Ends\n",
       "3  [キングダム]       [Primeでの配信は7日以内に終了]\n",
       "6  [キングダム]  [Primeでの配信は24時間41分以内に終了]"
      ]
     },
     "execution_count": 42,
     "metadata": {},
     "output_type": "execute_result"
    }
   ],
   "source": [
    "df1 = df.dropna()\n",
    "df1"
   ]
  },
  {
   "cell_type": "code",
   "execution_count": 18,
   "id": "4ebd823e",
   "metadata": {},
   "outputs": [],
   "source": [
    "df1.to_csv('Titles&Ends/Action&Adventure/page1.csv', index=False, encoding='utf-8-sig')"
   ]
  },
  {
   "cell_type": "code",
   "execution_count": 19,
   "id": "c83f552a",
   "metadata": {},
   "outputs": [
    {
     "name": "stdout",
     "output_type": "stream",
     "text": [
      "{\"Titles\":{\"3\":null,\"6\":null,\"7\":null,\"14\":null},\"Ends\":{\"3\":null,\"6\":null,\"7\":null,\"14\":null}}\n"
     ]
    }
   ],
   "source": [
    "print(df1.to_json())"
   ]
  },
  {
   "cell_type": "code",
   "execution_count": 20,
   "id": "96d17b1a",
   "metadata": {},
   "outputs": [],
   "source": [
    "import json\n",
    "import csv"
   ]
  },
  {
   "cell_type": "code",
   "execution_count": 27,
   "id": "f438dbfb",
   "metadata": {},
   "outputs": [],
   "source": [
    "filename = 'Titles&Ends/Action&Adventure/page1.csv'\n",
    "with open(filename, encoding='utf8',newline='') as f:\n",
    "    csvreader = csv.reader(f)\n",
    "    for row in csvreader:\n",
    "         json_list.append(row)\n",
    "        print(row)"
   ]
  }
 ],
 "metadata": {
  "kernelspec": {
   "display_name": "Python 3 (ipykernel)",
   "language": "python",
   "name": "python3"
  },
  "language_info": {
   "codemirror_mode": {
    "name": "ipython",
    "version": 3
   },
   "file_extension": ".py",
   "mimetype": "text/x-python",
   "name": "python",
   "nbconvert_exporter": "python",
   "pygments_lexer": "ipython3",
   "version": "3.11.1"
  }
 },
 "nbformat": 4,
 "nbformat_minor": 5
}
