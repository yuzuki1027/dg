{
 "cells": [
  {
   "cell_type": "code",
   "execution_count": 1,
   "id": "5f8b5b03",
   "metadata": {},
   "outputs": [
    {
     "name": "stdout",
     "output_type": "stream",
     "text": [
      "Requirement already satisfied: selenium in c:\\users\\hina\\appdata\\local\\programs\\python\\python311\\lib\\site-packages (4.7.2)\n",
      "Requirement already satisfied: urllib3[socks]~=1.26 in c:\\users\\hina\\appdata\\local\\programs\\python\\python311\\lib\\site-packages (from selenium) (1.26.14)\n",
      "Requirement already satisfied: trio~=0.17 in c:\\users\\hina\\appdata\\local\\programs\\python\\python311\\lib\\site-packages (from selenium) (0.22.0)\n",
      "Requirement already satisfied: trio-websocket~=0.9 in c:\\users\\hina\\appdata\\local\\programs\\python\\python311\\lib\\site-packages (from selenium) (0.9.2)\n",
      "Requirement already satisfied: certifi>=2021.10.8 in c:\\users\\hina\\appdata\\local\\programs\\python\\python311\\lib\\site-packages (from selenium) (2022.12.7)\n",
      "Requirement already satisfied: attrs>=19.2.0 in c:\\users\\hina\\appdata\\local\\programs\\python\\python311\\lib\\site-packages (from trio~=0.17->selenium) (22.2.0)\n",
      "Requirement already satisfied: sortedcontainers in c:\\users\\hina\\appdata\\local\\programs\\python\\python311\\lib\\site-packages (from trio~=0.17->selenium) (2.4.0)\n",
      "Requirement already satisfied: async-generator>=1.9 in c:\\users\\hina\\appdata\\local\\programs\\python\\python311\\lib\\site-packages (from trio~=0.17->selenium) (1.10)\n",
      "Requirement already satisfied: idna in c:\\users\\hina\\appdata\\local\\programs\\python\\python311\\lib\\site-packages (from trio~=0.17->selenium) (3.4)\n",
      "Requirement already satisfied: outcome in c:\\users\\hina\\appdata\\local\\programs\\python\\python311\\lib\\site-packages (from trio~=0.17->selenium) (1.2.0)\n",
      "Requirement already satisfied: sniffio in c:\\users\\hina\\appdata\\local\\programs\\python\\python311\\lib\\site-packages (from trio~=0.17->selenium) (1.3.0)\n",
      "Requirement already satisfied: cffi>=1.14 in c:\\users\\hina\\appdata\\local\\programs\\python\\python311\\lib\\site-packages (from trio~=0.17->selenium) (1.15.1)\n",
      "Requirement already satisfied: wsproto>=0.14 in c:\\users\\hina\\appdata\\local\\programs\\python\\python311\\lib\\site-packages (from trio-websocket~=0.9->selenium) (1.2.0)\n",
      "Requirement already satisfied: PySocks!=1.5.7,<2.0,>=1.5.6 in c:\\users\\hina\\appdata\\local\\programs\\python\\python311\\lib\\site-packages (from urllib3[socks]~=1.26->selenium) (1.7.1)\n",
      "Requirement already satisfied: pycparser in c:\\users\\hina\\appdata\\local\\programs\\python\\python311\\lib\\site-packages (from cffi>=1.14->trio~=0.17->selenium) (2.21)\n",
      "Requirement already satisfied: h11<1,>=0.9.0 in c:\\users\\hina\\appdata\\local\\programs\\python\\python311\\lib\\site-packages (from wsproto>=0.14->trio-websocket~=0.9->selenium) (0.14.0)\n"
     ]
    }
   ],
   "source": [
    "! pip install selenium"
   ]
  },
  {
   "cell_type": "code",
   "execution_count": 2,
   "id": "77b4bebc",
   "metadata": {},
   "outputs": [
    {
     "name": "stdout",
     "output_type": "stream",
     "text": [
      "Requirement already satisfied: BeautifulSoup4 in c:\\users\\hina\\appdata\\local\\programs\\python\\python311\\lib\\site-packages (4.11.1)\n",
      "Requirement already satisfied: soupsieve>1.2 in c:\\users\\hina\\appdata\\local\\programs\\python\\python311\\lib\\site-packages (from BeautifulSoup4) (2.3.2.post1)\n"
     ]
    }
   ],
   "source": [
    "!pip install BeautifulSoup4"
   ]
  },
  {
   "cell_type": "code",
   "execution_count": 3,
   "id": "e1ad161e",
   "metadata": {},
   "outputs": [],
   "source": [
    "import requests\n",
    "from bs4 import BeautifulSoup"
   ]
  },
  {
   "cell_type": "code",
   "execution_count": 4,
   "id": "b624ed9a",
   "metadata": {},
   "outputs": [],
   "source": [
    "url = \"https://www.amazon.co.jp/s?i=instant-video&bbn=4217521051&rh=n%3A4217521051%2Cp_n_theme_browse-bin%3A4435523051&dc&language=ja_JP&ds=v1%3ABc3Rmd5UtyPxJYVQ7fKvfdZpRywy2cZKxvVvFJlvsHE&brr=1&qid=1673745491&rd=1&rnid=4435522051&ref=sr_nr_p_n_theme_browse-bin_1\" \n",
    "res = requests.get(url)"
   ]
  },
  {
   "cell_type": "code",
   "execution_count": 5,
   "id": "a24a2931",
   "metadata": {},
   "outputs": [
    {
     "data": {
      "text/plain": [
       "<Response [200]>"
      ]
     },
     "execution_count": 5,
     "metadata": {},
     "output_type": "execute_result"
    }
   ],
   "source": [
    "res"
   ]
  },
  {
   "cell_type": "code",
   "execution_count": 10,
   "id": "19542325",
   "metadata": {},
   "outputs": [],
   "source": [
    "soup = BeautifulSoup(res.text, 'html.parser')"
   ]
  },
  {
   "cell_type": "code",
   "execution_count": 11,
   "id": "2f1417fd",
   "metadata": {},
   "outputs": [
    {
     "name": "stdout",
     "output_type": "stream",
     "text": [
      "Requirement already satisfied: Pillow in c:\\users\\hina\\appdata\\local\\programs\\python\\python311\\lib\\site-packages (9.4.0)\n"
     ]
    }
   ],
   "source": [
    "!pip install Pillow"
   ]
  },
  {
   "cell_type": "code",
   "execution_count": 12,
   "id": "26f3a22a",
   "metadata": {},
   "outputs": [],
   "source": [
    "from PIL import Image\n",
    "import io"
   ]
  },
  {
   "cell_type": "code",
   "execution_count": 13,
   "id": "3d6ac988",
   "metadata": {
    "scrolled": true
   },
   "outputs": [
    {
     "data": {
      "text/plain": [
       "[<a class=\"a-link-normal s-no-outline\" href=\"/%E7%AC%AC%EF%BC%94%E8%A9%B1-%E8%A6%AA%E5%AD%90%E3%81%AE%E5%86%8D%E4%BC%9A/dp/B09Q58SX6R\" target=\"_blank\"><div class=\"a-section aok-relative s-image-square-aspect\"><img alt=\"ありふれた職業で世界最強 - シーズン 2\" class=\"s-image\" data-image-index=\"1\" data-image-latency=\"s-product-image\" data-image-load=\"\" data-image-source-density=\"1\" src=\"https://m.media-amazon.com/images/I/71mCrGCa3qL._AC_UL320_.jpg\" srcset=\"https://m.media-amazon.com/images/I/71mCrGCa3qL._AC_UL320_.jpg 1x, https://m.media-amazon.com/images/I/71mCrGCa3qL._AC_UL480_QL65_.jpg 1.5x, https://m.media-amazon.com/images/I/71mCrGCa3qL._AC_UL640_QL65_.jpg 2x, https://m.media-amazon.com/images/I/71mCrGCa3qL._AC_UL800_QL65_.jpg 2.5x, https://m.media-amazon.com/images/I/71mCrGCa3qL._AC_UL960_QL65_.jpg 3x\"/></div></a>,\n",
       " <a class=\"a-link-normal s-no-outline\" href=\"/%E7%AC%AC55%E8%A9%B1-%E3%83%99%E3%83%BC%E3%82%AB%E3%83%AA%E3%83%83%E3%82%AF%E3%82%B9/dp/B08YY3HD3W\" target=\"_blank\"><div class=\"a-section aok-relative s-image-square-aspect\"><img alt=\"ミラキュラス レディバグ＆シャノワール\" class=\"s-image\" data-image-index=\"2\" data-image-latency=\"s-product-image\" data-image-load=\"\" data-image-source-density=\"1\" src=\"https://m.media-amazon.com/images/I/71-CSpPE0CL._AC_UL320_.jpg\" srcset=\"https://m.media-amazon.com/images/I/71-CSpPE0CL._AC_UL320_.jpg 1x, https://m.media-amazon.com/images/I/71-CSpPE0CL._AC_UL480_QL65_.jpg 1.5x, https://m.media-amazon.com/images/I/71-CSpPE0CL._AC_UL640_QL65_.jpg 2x, https://m.media-amazon.com/images/I/71-CSpPE0CL._AC_UL800_QL65_.jpg 2.5x, https://m.media-amazon.com/images/I/71-CSpPE0CL._AC_UL960_QL65_.jpg 3x\"/></div></a>,\n",
       " <a class=\"a-link-normal s-no-outline\" href=\"/%E7%AC%AC73%E8%A9%B1-%E6%9C%AA%E6%9D%A5%E3%81%B8/dp/B00R5M3H42\" target=\"_blank\"><div class=\"a-section aok-relative s-image-square-aspect\"><img alt=\"ワールドトリガー\" class=\"s-image\" data-image-index=\"3\" data-image-latency=\"s-product-image\" data-image-load=\"\" data-image-source-density=\"1\" src=\"https://m.media-amazon.com/images/I/71uz3eGJ9jL._AC_UL320_.jpg\" srcset=\"https://m.media-amazon.com/images/I/71uz3eGJ9jL._AC_UL320_.jpg 1x, https://m.media-amazon.com/images/I/71uz3eGJ9jL._AC_UL480_QL65_.jpg 1.5x, https://m.media-amazon.com/images/I/71uz3eGJ9jL._AC_UL640_QL65_.jpg 2x, https://m.media-amazon.com/images/I/71uz3eGJ9jL._AC_UL800_QL65_.jpg 2.5x, https://m.media-amazon.com/images/I/71uz3eGJ9jL._AC_UL960_QL65_.jpg 3x\"/></div></a>,\n",
       " <a class=\"a-link-normal s-no-outline\" href=\"/%E4%BA%8C%E3%81%A4%E3%81%AE%E6%88%A6%E5%A0%B4/dp/B086WP6YGF\" target=\"_blank\"><div class=\"a-section aok-relative s-image-square-aspect\"><img alt=\"「キングダム」第3シリーズ\" class=\"s-image\" data-image-index=\"4\" data-image-latency=\"s-product-image\" data-image-load=\"\" data-image-source-density=\"1\" src=\"https://m.media-amazon.com/images/I/71ye8wEGhzL._AC_UL320_.jpg\" srcset=\"https://m.media-amazon.com/images/I/71ye8wEGhzL._AC_UL320_.jpg 1x, https://m.media-amazon.com/images/I/71ye8wEGhzL._AC_UL480_QL65_.jpg 1.5x, https://m.media-amazon.com/images/I/71ye8wEGhzL._AC_UL640_QL65_.jpg 2x, https://m.media-amazon.com/images/I/71ye8wEGhzL._AC_UL800_QL65_.jpg 2.5x, https://m.media-amazon.com/images/I/71ye8wEGhzL._AC_UL960_QL65_.jpg 3x\"/></div></a>,\n",
       " <a class=\"a-link-normal s-no-outline\" href=\"/%E9%BB%92%E7%AB%9C%E3%82%92%E7%A9%BF%E3%81%A4%E8%80%85/dp/B07TW4CJ1Q\" target=\"_blank\"><div class=\"a-section aok-relative s-image-square-aspect\"><img alt=\"ありふれた職業で世界最強\" class=\"s-image\" data-image-index=\"5\" data-image-latency=\"s-product-image\" data-image-load=\"\" data-image-source-density=\"1\" src=\"https://m.media-amazon.com/images/I/71X0fJikMrL._AC_UL320_.jpg\" srcset=\"https://m.media-amazon.com/images/I/71X0fJikMrL._AC_UL320_.jpg 1x, https://m.media-amazon.com/images/I/71X0fJikMrL._AC_UL480_QL65_.jpg 1.5x, https://m.media-amazon.com/images/I/71X0fJikMrL._AC_UL640_QL65_.jpg 2x, https://m.media-amazon.com/images/I/71X0fJikMrL._AC_UL800_QL65_.jpg 2.5x, https://m.media-amazon.com/images/I/71X0fJikMrL._AC_UL960_QL65_.jpg 3x\"/></div></a>,\n",
       " <a class=\"a-link-normal s-no-outline\" href=\"/%E8%A6%9A%E6%82%9F/dp/B09J1XNY54\" target=\"_blank\"><div class=\"a-section aok-relative s-image-square-aspect\"><img alt=\"ワールドトリガー 3rdシーズン\" class=\"s-image\" data-image-index=\"6\" data-image-latency=\"s-product-image\" data-image-load=\"\" data-image-source-density=\"1\" src=\"https://m.media-amazon.com/images/I/613CTyqpqIL._AC_UL320_.jpg\" srcset=\"https://m.media-amazon.com/images/I/613CTyqpqIL._AC_UL320_.jpg 1x, https://m.media-amazon.com/images/I/613CTyqpqIL._AC_UL480_QL65_.jpg 1.5x, https://m.media-amazon.com/images/I/613CTyqpqIL._AC_UL640_QL65_.jpg 2x, https://m.media-amazon.com/images/I/613CTyqpqIL._AC_UL800_QL65_.jpg 2.5x, https://m.media-amazon.com/images/I/613CTyqpqIL._AC_UL960_QL65_.jpg 3x\"/></div></a>,\n",
       " <a class=\"a-link-normal s-no-outline\" href=\"/%E3%80%8E%E6%96%B0%E3%81%9F%E3%81%AA%E3%82%8B%E8%A9%A6%E7%B7%B4%E3%80%8F/dp/B01JGUAYLO\" target=\"_blank\"><div class=\"a-section aok-relative s-image-square-aspect\"><img alt=\"キングダム\" class=\"s-image\" data-image-index=\"7\" data-image-latency=\"s-product-image\" data-image-load=\"\" data-image-source-density=\"1\" src=\"https://m.media-amazon.com/images/I/812acL9wG7L._AC_UL320_.jpg\" srcset=\"https://m.media-amazon.com/images/I/812acL9wG7L._AC_UL320_.jpg 1x, https://m.media-amazon.com/images/I/812acL9wG7L._AC_UL480_QL65_.jpg 1.5x, https://m.media-amazon.com/images/I/812acL9wG7L._AC_UL640_QL65_.jpg 2x, https://m.media-amazon.com/images/I/812acL9wG7L._AC_UL800_QL65_.jpg 2.5x, https://m.media-amazon.com/images/I/812acL9wG7L._AC_UL960_QL65_.jpg 3x\"/></div></a>,\n",
       " <a class=\"a-link-normal s-no-outline\" href=\"/%E3%80%8E%E9%9D%99%E3%81%8B%E3%81%AA%E3%82%8B%E6%88%A6%E5%A0%B4%E3%80%8F/dp/B01JGTWMM4\" target=\"_blank\"><div class=\"a-section aok-relative s-image-square-aspect\"><img alt=\"キングダム 第2シリーズ\" class=\"s-image\" data-image-index=\"8\" data-image-latency=\"s-product-image\" data-image-load=\"\" data-image-source-density=\"1\" src=\"https://m.media-amazon.com/images/I/71C9PGKsedL._AC_UL320_.jpg\" srcset=\"https://m.media-amazon.com/images/I/71C9PGKsedL._AC_UL320_.jpg 1x, https://m.media-amazon.com/images/I/71C9PGKsedL._AC_UL480_QL65_.jpg 1.5x, https://m.media-amazon.com/images/I/71C9PGKsedL._AC_UL640_QL65_.jpg 2x, https://m.media-amazon.com/images/I/71C9PGKsedL._AC_UL800_QL65_.jpg 2.5x, https://m.media-amazon.com/images/I/71C9PGKsedL._AC_UL960_QL65_.jpg 3x\"/></div></a>,\n",
       " <a class=\"a-link-normal s-no-outline\" href=\"/%E3%82%B8%E3%83%A7%E3%83%B3%E3%83%BB%E3%82%A6%E3%82%A3%E3%83%83%E3%82%AF%EF%BC%9A%E3%83%81%E3%83%A3%E3%83%97%E3%82%BF%E3%83%BC%EF%BC%92-%E5%90%B9%E6%9B%BF%E7%89%88-%E3%82%AD%E3%82%A2%E3%83%8C%E3%83%BB%E3%83%AA%E3%83%BC%E3%83%96%E3%82%B9/dp/B077JK1H1B\" target=\"_blank\"><div class=\"a-section aok-relative s-image-square-aspect\"><img alt=\"ジョン・ウィック：チャプター２(吹替版)\" class=\"s-image\" data-image-index=\"9\" data-image-latency=\"s-product-image\" data-image-load=\"\" data-image-source-density=\"1\" src=\"https://m.media-amazon.com/images/I/8189F21emOL._AC_UL320_.jpg\" srcset=\"https://m.media-amazon.com/images/I/8189F21emOL._AC_UL320_.jpg 1x, https://m.media-amazon.com/images/I/8189F21emOL._AC_UL480_QL65_.jpg 1.5x, https://m.media-amazon.com/images/I/8189F21emOL._AC_UL640_QL65_.jpg 2x, https://m.media-amazon.com/images/I/8189F21emOL._AC_UL800_QL65_.jpg 2.5x, https://m.media-amazon.com/images/I/8189F21emOL._AC_UL960_QL65_.jpg 3x\"/></div></a>,\n",
       " <a class=\"a-link-normal s-no-outline\" href=\"/%E3%82%B8%E3%83%A7%E3%83%B3%E3%83%BB%E3%82%A6%E3%82%A3%E3%83%83%E3%82%AF-%E5%90%B9%E6%9B%BF%E7%89%88-%E3%82%AD%E3%82%A2%E3%83%8C%E3%83%BB%E3%83%AA%E3%83%BC%E3%83%96%E3%82%B9/dp/B01BHBT3NA\" target=\"_blank\"><div class=\"a-section aok-relative s-image-square-aspect\"><img alt=\"ジョン・ウィック (吹替版)\" class=\"s-image\" data-image-index=\"10\" data-image-latency=\"s-product-image\" data-image-load=\"\" data-image-source-density=\"1\" src=\"https://m.media-amazon.com/images/I/81jTnNBpI7L._AC_UL320_.jpg\" srcset=\"https://m.media-amazon.com/images/I/81jTnNBpI7L._AC_UL320_.jpg 1x, https://m.media-amazon.com/images/I/81jTnNBpI7L._AC_UL480_QL65_.jpg 1.5x, https://m.media-amazon.com/images/I/81jTnNBpI7L._AC_UL640_QL65_.jpg 2x, https://m.media-amazon.com/images/I/81jTnNBpI7L._AC_UL800_QL65_.jpg 2.5x, https://m.media-amazon.com/images/I/81jTnNBpI7L._AC_UL960_QL65_.jpg 3x\"/></div></a>,\n",
       " <a class=\"a-link-normal s-no-outline\" href=\"/%E5%B8%B0%E9%82%84/dp/B01MQ0EOT4\" target=\"_blank\"><div class=\"a-section aok-relative s-image-square-aspect\"><img alt=\"ソードアート・オンライン\" class=\"s-image\" data-image-index=\"11\" data-image-latency=\"s-product-image\" data-image-load=\"\" data-image-source-density=\"1\" src=\"https://m.media-amazon.com/images/I/81XKeCvGq2L._AC_UL320_.jpg\" srcset=\"https://m.media-amazon.com/images/I/81XKeCvGq2L._AC_UL320_.jpg 1x, https://m.media-amazon.com/images/I/81XKeCvGq2L._AC_UL480_QL65_.jpg 1.5x, https://m.media-amazon.com/images/I/81XKeCvGq2L._AC_UL640_QL65_.jpg 2x, https://m.media-amazon.com/images/I/81XKeCvGq2L._AC_UL800_QL65_.jpg 2.5x, https://m.media-amazon.com/images/I/81XKeCvGq2L._AC_UL960_QL65_.jpg 3x\"/></div></a>,\n",
       " <a class=\"a-link-normal s-no-outline\" href=\"/%E3%82%B8%E3%83%A7%E3%83%B3%E3%83%BB%E3%82%A6%E3%82%A3%E3%83%83%E3%82%AF-%E5%AD%97%E5%B9%95%E7%89%88-%E3%82%AD%E3%82%A2%E3%83%8C%E3%83%BB%E3%83%AA%E3%83%BC%E3%83%96%E3%82%B9/dp/B01BHBT60K\" target=\"_blank\"><div class=\"a-section aok-relative s-image-square-aspect\"><img alt=\"ジョン・ウィック(字幕版)\" class=\"s-image\" data-image-index=\"12\" data-image-latency=\"s-product-image\" data-image-load=\"\" data-image-source-density=\"1\" src=\"https://m.media-amazon.com/images/I/81gWVot1YXL._AC_UL320_.jpg\" srcset=\"https://m.media-amazon.com/images/I/81gWVot1YXL._AC_UL320_.jpg 1x, https://m.media-amazon.com/images/I/81gWVot1YXL._AC_UL480_QL65_.jpg 1.5x, https://m.media-amazon.com/images/I/81gWVot1YXL._AC_UL640_QL65_.jpg 2x, https://m.media-amazon.com/images/I/81gWVot1YXL._AC_UL800_QL65_.jpg 2.5x, https://m.media-amazon.com/images/I/81gWVot1YXL._AC_UL960_QL65_.jpg 3x\"/></div></a>,\n",
       " <a class=\"a-link-normal s-no-outline\" href=\"/%E3%82%B8%E3%83%A7%E3%83%B3%E3%83%BB%E3%82%A6%E3%82%A3%E3%83%83%E3%82%AF%EF%BC%9A%E3%83%81%E3%83%A3%E3%83%97%E3%82%BF%E3%83%BC%EF%BC%92%EF%BC%88%E5%AD%97%E5%B9%95%E7%89%88%EF%BC%89-%E3%82%AD%E3%82%A2%E3%83%8C%E3%83%BB%E3%83%AA%E3%83%BC%E3%83%96%E3%82%B9/dp/B077JM6ZMT\" target=\"_blank\"><div class=\"a-section aok-relative s-image-square-aspect\"><img alt=\"ジョン・ウィック：チャプター２（字幕版）\" class=\"s-image\" data-image-index=\"13\" data-image-latency=\"s-product-image\" data-image-load=\"\" data-image-source-density=\"1\" src=\"https://m.media-amazon.com/images/I/71nQU2sBtrL._AC_UL320_.jpg\" srcset=\"https://m.media-amazon.com/images/I/71nQU2sBtrL._AC_UL320_.jpg 1x, https://m.media-amazon.com/images/I/71nQU2sBtrL._AC_UL480_QL65_.jpg 1.5x, https://m.media-amazon.com/images/I/71nQU2sBtrL._AC_UL640_QL65_.jpg 2x, https://m.media-amazon.com/images/I/71nQU2sBtrL._AC_UL800_QL65_.jpg 2.5x, https://m.media-amazon.com/images/I/71nQU2sBtrL._AC_UL960_QL65_.jpg 3x\"/></div></a>,\n",
       " <a class=\"a-link-normal s-no-outline\" href=\"/%E7%AC%AC1%E8%A9%B1-%E8%A5%B2%E6%9D%A5/dp/B08SQ92ZZR\" target=\"_blank\"><div class=\"a-section aok-relative s-image-square-aspect\"><img alt=\"ワールドトリガー 2ndシーズン\" class=\"s-image\" data-image-index=\"14\" data-image-latency=\"s-product-image\" data-image-load=\"\" data-image-source-density=\"1\" src=\"https://m.media-amazon.com/images/I/817++QH5GgL._AC_UL320_.jpg\" srcset=\"https://m.media-amazon.com/images/I/817++QH5GgL._AC_UL320_.jpg 1x, https://m.media-amazon.com/images/I/817++QH5GgL._AC_UL480_QL65_.jpg 1.5x, https://m.media-amazon.com/images/I/817++QH5GgL._AC_UL640_QL65_.jpg 2x, https://m.media-amazon.com/images/I/817++QH5GgL._AC_UL800_QL65_.jpg 2.5x, https://m.media-amazon.com/images/I/817++QH5GgL._AC_UL960_QL65_.jpg 3x\"/></div></a>,\n",
       " <a class=\"a-link-normal s-no-outline\" href=\"/%E8%B6%85%E9%9B%BB%E7%A3%81%E7%A0%B2-%E3%83%AC%E3%83%BC%E3%83%AB%E3%82%AC%E3%83%B3-%C3%97%E5%BF%83%E7%90%86%E6%8E%8C%E6%8F%A1-%E3%83%A1%E3%83%B3%E3%82%BF%E3%83%AB%E3%82%A2%E3%82%A6%E3%83%88/dp/B083WK8XDW\" target=\"_blank\"><div class=\"a-section aok-relative s-image-square-aspect\"><img alt=\"とある科学の超電磁砲Ｔ\" class=\"s-image\" data-image-index=\"15\" data-image-latency=\"s-product-image\" data-image-load=\"\" data-image-source-density=\"1\" src=\"https://m.media-amazon.com/images/I/91VAw+rQGCL._AC_UL320_.jpg\" srcset=\"https://m.media-amazon.com/images/I/91VAw+rQGCL._AC_UL320_.jpg 1x, https://m.media-amazon.com/images/I/91VAw+rQGCL._AC_UL480_QL65_.jpg 1.5x, https://m.media-amazon.com/images/I/91VAw+rQGCL._AC_UL640_QL65_.jpg 2x, https://m.media-amazon.com/images/I/91VAw+rQGCL._AC_UL800_QL65_.jpg 2.5x, https://m.media-amazon.com/images/I/91VAw+rQGCL._AC_UL960_QL65_.jpg 3x\"/></div></a>,\n",
       " <a class=\"a-link-normal s-no-outline\" href=\"/%E7%AC%AC4%E8%A9%B1%E3%80%8CGGO%E3%80%8D/dp/B07HKR9YMV\" target=\"_blank\"><div class=\"a-section aok-relative s-image-square-aspect\"><img alt=\"ソードアート・オンラインⅡ\" class=\"s-image\" data-image-index=\"16\" data-image-latency=\"s-product-image\" data-image-load=\"\" data-image-source-density=\"1\" src=\"https://m.media-amazon.com/images/I/71xj948m+kL._AC_UL320_.jpg\" srcset=\"https://m.media-amazon.com/images/I/71xj948m+kL._AC_UL320_.jpg 1x, https://m.media-amazon.com/images/I/71xj948m+kL._AC_UL480_QL65_.jpg 1.5x, https://m.media-amazon.com/images/I/71xj948m+kL._AC_UL640_QL65_.jpg 2x, https://m.media-amazon.com/images/I/71xj948m+kL._AC_UL800_QL65_.jpg 2.5x, https://m.media-amazon.com/images/I/71xj948m+kL._AC_UL960_QL65_.jpg 3x\"/></div></a>]"
      ]
     },
     "execution_count": 13,
     "metadata": {},
     "output_type": "execute_result"
    }
   ],
   "source": [
    "links = soup.find_all(class_ = \"a-link-normal s-no-outline\")\n",
    "links"
   ]
  },
  {
   "cell_type": "code",
   "execution_count": 14,
   "id": "4d4094e4",
   "metadata": {},
   "outputs": [],
   "source": [
    "alinks = []\n",
    "for i in range(len(links)):\n",
    "    try:\n",
    "        link_ = links[i].get(\"href\")\n",
    "        alinks.append(link_)\n",
    "    except:\n",
    "        pass"
   ]
  },
  {
   "cell_type": "code",
   "execution_count": 15,
   "id": "bf901f2d",
   "metadata": {},
   "outputs": [
    {
     "data": {
      "text/plain": [
       "['/%E7%AC%AC%EF%BC%94%E8%A9%B1-%E8%A6%AA%E5%AD%90%E3%81%AE%E5%86%8D%E4%BC%9A/dp/B09Q58SX6R',\n",
       " '/%E7%AC%AC55%E8%A9%B1-%E3%83%99%E3%83%BC%E3%82%AB%E3%83%AA%E3%83%83%E3%82%AF%E3%82%B9/dp/B08YY3HD3W',\n",
       " '/%E7%AC%AC73%E8%A9%B1-%E6%9C%AA%E6%9D%A5%E3%81%B8/dp/B00R5M3H42',\n",
       " '/%E4%BA%8C%E3%81%A4%E3%81%AE%E6%88%A6%E5%A0%B4/dp/B086WP6YGF',\n",
       " '/%E9%BB%92%E7%AB%9C%E3%82%92%E7%A9%BF%E3%81%A4%E8%80%85/dp/B07TW4CJ1Q',\n",
       " '/%E8%A6%9A%E6%82%9F/dp/B09J1XNY54',\n",
       " '/%E3%80%8E%E6%96%B0%E3%81%9F%E3%81%AA%E3%82%8B%E8%A9%A6%E7%B7%B4%E3%80%8F/dp/B01JGUAYLO',\n",
       " '/%E3%80%8E%E9%9D%99%E3%81%8B%E3%81%AA%E3%82%8B%E6%88%A6%E5%A0%B4%E3%80%8F/dp/B01JGTWMM4',\n",
       " '/%E3%82%B8%E3%83%A7%E3%83%B3%E3%83%BB%E3%82%A6%E3%82%A3%E3%83%83%E3%82%AF%EF%BC%9A%E3%83%81%E3%83%A3%E3%83%97%E3%82%BF%E3%83%BC%EF%BC%92-%E5%90%B9%E6%9B%BF%E7%89%88-%E3%82%AD%E3%82%A2%E3%83%8C%E3%83%BB%E3%83%AA%E3%83%BC%E3%83%96%E3%82%B9/dp/B077JK1H1B',\n",
       " '/%E3%82%B8%E3%83%A7%E3%83%B3%E3%83%BB%E3%82%A6%E3%82%A3%E3%83%83%E3%82%AF-%E5%90%B9%E6%9B%BF%E7%89%88-%E3%82%AD%E3%82%A2%E3%83%8C%E3%83%BB%E3%83%AA%E3%83%BC%E3%83%96%E3%82%B9/dp/B01BHBT3NA',\n",
       " '/%E5%B8%B0%E9%82%84/dp/B01MQ0EOT4',\n",
       " '/%E3%82%B8%E3%83%A7%E3%83%B3%E3%83%BB%E3%82%A6%E3%82%A3%E3%83%83%E3%82%AF-%E5%AD%97%E5%B9%95%E7%89%88-%E3%82%AD%E3%82%A2%E3%83%8C%E3%83%BB%E3%83%AA%E3%83%BC%E3%83%96%E3%82%B9/dp/B01BHBT60K',\n",
       " '/%E3%82%B8%E3%83%A7%E3%83%B3%E3%83%BB%E3%82%A6%E3%82%A3%E3%83%83%E3%82%AF%EF%BC%9A%E3%83%81%E3%83%A3%E3%83%97%E3%82%BF%E3%83%BC%EF%BC%92%EF%BC%88%E5%AD%97%E5%B9%95%E7%89%88%EF%BC%89-%E3%82%AD%E3%82%A2%E3%83%8C%E3%83%BB%E3%83%AA%E3%83%BC%E3%83%96%E3%82%B9/dp/B077JM6ZMT',\n",
       " '/%E7%AC%AC1%E8%A9%B1-%E8%A5%B2%E6%9D%A5/dp/B08SQ92ZZR',\n",
       " '/%E8%B6%85%E9%9B%BB%E7%A3%81%E7%A0%B2-%E3%83%AC%E3%83%BC%E3%83%AB%E3%82%AC%E3%83%B3-%C3%97%E5%BF%83%E7%90%86%E6%8E%8C%E6%8F%A1-%E3%83%A1%E3%83%B3%E3%82%BF%E3%83%AB%E3%82%A2%E3%82%A6%E3%83%88/dp/B083WK8XDW',\n",
       " '/%E7%AC%AC4%E8%A9%B1%E3%80%8CGGO%E3%80%8D/dp/B07HKR9YMV']"
      ]
     },
     "execution_count": 15,
     "metadata": {},
     "output_type": "execute_result"
    }
   ],
   "source": [
    "alinks"
   ]
  },
  {
   "cell_type": "code",
   "execution_count": 17,
   "id": "75c19579",
   "metadata": {
    "scrolled": false
   },
   "outputs": [],
   "source": [
    "links=[]\n",
    "\n",
    "for link in alinks :\n",
    "    links.append('https://www.amazon.co.jp/'+ link)"
   ]
  },
  {
   "cell_type": "code",
   "execution_count": 18,
   "id": "aee9933f",
   "metadata": {},
   "outputs": [
    {
     "data": {
      "text/plain": [
       "['https://www.amazon.co.jp//%E7%AC%AC%EF%BC%94%E8%A9%B1-%E8%A6%AA%E5%AD%90%E3%81%AE%E5%86%8D%E4%BC%9A/dp/B09Q58SX6R',\n",
       " 'https://www.amazon.co.jp//%E7%AC%AC55%E8%A9%B1-%E3%83%99%E3%83%BC%E3%82%AB%E3%83%AA%E3%83%83%E3%82%AF%E3%82%B9/dp/B08YY3HD3W',\n",
       " 'https://www.amazon.co.jp//%E7%AC%AC73%E8%A9%B1-%E6%9C%AA%E6%9D%A5%E3%81%B8/dp/B00R5M3H42',\n",
       " 'https://www.amazon.co.jp//%E4%BA%8C%E3%81%A4%E3%81%AE%E6%88%A6%E5%A0%B4/dp/B086WP6YGF',\n",
       " 'https://www.amazon.co.jp//%E9%BB%92%E7%AB%9C%E3%82%92%E7%A9%BF%E3%81%A4%E8%80%85/dp/B07TW4CJ1Q',\n",
       " 'https://www.amazon.co.jp//%E8%A6%9A%E6%82%9F/dp/B09J1XNY54',\n",
       " 'https://www.amazon.co.jp//%E3%80%8E%E6%96%B0%E3%81%9F%E3%81%AA%E3%82%8B%E8%A9%A6%E7%B7%B4%E3%80%8F/dp/B01JGUAYLO',\n",
       " 'https://www.amazon.co.jp//%E3%80%8E%E9%9D%99%E3%81%8B%E3%81%AA%E3%82%8B%E6%88%A6%E5%A0%B4%E3%80%8F/dp/B01JGTWMM4',\n",
       " 'https://www.amazon.co.jp//%E3%82%B8%E3%83%A7%E3%83%B3%E3%83%BB%E3%82%A6%E3%82%A3%E3%83%83%E3%82%AF%EF%BC%9A%E3%83%81%E3%83%A3%E3%83%97%E3%82%BF%E3%83%BC%EF%BC%92-%E5%90%B9%E6%9B%BF%E7%89%88-%E3%82%AD%E3%82%A2%E3%83%8C%E3%83%BB%E3%83%AA%E3%83%BC%E3%83%96%E3%82%B9/dp/B077JK1H1B',\n",
       " 'https://www.amazon.co.jp//%E3%82%B8%E3%83%A7%E3%83%B3%E3%83%BB%E3%82%A6%E3%82%A3%E3%83%83%E3%82%AF-%E5%90%B9%E6%9B%BF%E7%89%88-%E3%82%AD%E3%82%A2%E3%83%8C%E3%83%BB%E3%83%AA%E3%83%BC%E3%83%96%E3%82%B9/dp/B01BHBT3NA',\n",
       " 'https://www.amazon.co.jp//%E5%B8%B0%E9%82%84/dp/B01MQ0EOT4',\n",
       " 'https://www.amazon.co.jp//%E3%82%B8%E3%83%A7%E3%83%B3%E3%83%BB%E3%82%A6%E3%82%A3%E3%83%83%E3%82%AF-%E5%AD%97%E5%B9%95%E7%89%88-%E3%82%AD%E3%82%A2%E3%83%8C%E3%83%BB%E3%83%AA%E3%83%BC%E3%83%96%E3%82%B9/dp/B01BHBT60K',\n",
       " 'https://www.amazon.co.jp//%E3%82%B8%E3%83%A7%E3%83%B3%E3%83%BB%E3%82%A6%E3%82%A3%E3%83%83%E3%82%AF%EF%BC%9A%E3%83%81%E3%83%A3%E3%83%97%E3%82%BF%E3%83%BC%EF%BC%92%EF%BC%88%E5%AD%97%E5%B9%95%E7%89%88%EF%BC%89-%E3%82%AD%E3%82%A2%E3%83%8C%E3%83%BB%E3%83%AA%E3%83%BC%E3%83%96%E3%82%B9/dp/B077JM6ZMT',\n",
       " 'https://www.amazon.co.jp//%E7%AC%AC1%E8%A9%B1-%E8%A5%B2%E6%9D%A5/dp/B08SQ92ZZR',\n",
       " 'https://www.amazon.co.jp//%E8%B6%85%E9%9B%BB%E7%A3%81%E7%A0%B2-%E3%83%AC%E3%83%BC%E3%83%AB%E3%82%AC%E3%83%B3-%C3%97%E5%BF%83%E7%90%86%E6%8E%8C%E6%8F%A1-%E3%83%A1%E3%83%B3%E3%82%BF%E3%83%AB%E3%82%A2%E3%82%A6%E3%83%88/dp/B083WK8XDW',\n",
       " 'https://www.amazon.co.jp//%E7%AC%AC4%E8%A9%B1%E3%80%8CGGO%E3%80%8D/dp/B07HKR9YMV']"
      ]
     },
     "execution_count": 18,
     "metadata": {},
     "output_type": "execute_result"
    }
   ],
   "source": [
    "links"
   ]
  },
  {
   "cell_type": "code",
   "execution_count": 19,
   "id": "36daf72a",
   "metadata": {},
   "outputs": [
    {
     "name": "stdout",
     "output_type": "stream",
     "text": [
      "Requirement already satisfied: pandas in c:\\users\\hina\\appdata\\local\\programs\\python\\python311\\lib\\site-packages (1.5.2)\n",
      "Requirement already satisfied: python-dateutil>=2.8.1 in c:\\users\\hina\\appdata\\local\\programs\\python\\python311\\lib\\site-packages (from pandas) (2.8.2)\n",
      "Requirement already satisfied: pytz>=2020.1 in c:\\users\\hina\\appdata\\local\\programs\\python\\python311\\lib\\site-packages (from pandas) (2022.7)\n",
      "Requirement already satisfied: numpy>=1.21.0 in c:\\users\\hina\\appdata\\local\\programs\\python\\python311\\lib\\site-packages (from pandas) (1.24.1)\n",
      "Requirement already satisfied: six>=1.5 in c:\\users\\hina\\appdata\\local\\programs\\python\\python311\\lib\\site-packages (from python-dateutil>=2.8.1->pandas) (1.16.0)\n"
     ]
    }
   ],
   "source": [
    "!pip install pandas\n",
    "import pandas as pd"
   ]
  },
  {
   "cell_type": "code",
   "execution_count": 20,
   "id": "e3fe71ce",
   "metadata": {},
   "outputs": [
    {
     "data": {
      "text/html": [
       "<div>\n",
       "<style scoped>\n",
       "    .dataframe tbody tr th:only-of-type {\n",
       "        vertical-align: middle;\n",
       "    }\n",
       "\n",
       "    .dataframe tbody tr th {\n",
       "        vertical-align: top;\n",
       "    }\n",
       "\n",
       "    .dataframe thead th {\n",
       "        text-align: right;\n",
       "    }\n",
       "</style>\n",
       "<table border=\"1\" class=\"dataframe\">\n",
       "  <thead>\n",
       "    <tr style=\"text-align: right;\">\n",
       "      <th></th>\n",
       "      <th>0</th>\n",
       "    </tr>\n",
       "  </thead>\n",
       "  <tbody>\n",
       "    <tr>\n",
       "      <th>0</th>\n",
       "      <td>https://www.amazon.co.jp//%E7%AC%AC%EF%BC%94%E...</td>\n",
       "    </tr>\n",
       "    <tr>\n",
       "      <th>1</th>\n",
       "      <td>https://www.amazon.co.jp//%E7%AC%AC55%E8%A9%B1...</td>\n",
       "    </tr>\n",
       "    <tr>\n",
       "      <th>2</th>\n",
       "      <td>https://www.amazon.co.jp//%E7%AC%AC73%E8%A9%B1...</td>\n",
       "    </tr>\n",
       "    <tr>\n",
       "      <th>3</th>\n",
       "      <td>https://www.amazon.co.jp//%E4%BA%8C%E3%81%A4%E...</td>\n",
       "    </tr>\n",
       "    <tr>\n",
       "      <th>4</th>\n",
       "      <td>https://www.amazon.co.jp//%E9%BB%92%E7%AB%9C%E...</td>\n",
       "    </tr>\n",
       "    <tr>\n",
       "      <th>5</th>\n",
       "      <td>https://www.amazon.co.jp//%E8%A6%9A%E6%82%9F/d...</td>\n",
       "    </tr>\n",
       "    <tr>\n",
       "      <th>6</th>\n",
       "      <td>https://www.amazon.co.jp//%E3%80%8E%E6%96%B0%E...</td>\n",
       "    </tr>\n",
       "    <tr>\n",
       "      <th>7</th>\n",
       "      <td>https://www.amazon.co.jp//%E3%80%8E%E9%9D%99%E...</td>\n",
       "    </tr>\n",
       "    <tr>\n",
       "      <th>8</th>\n",
       "      <td>https://www.amazon.co.jp//%E3%82%B8%E3%83%A7%E...</td>\n",
       "    </tr>\n",
       "    <tr>\n",
       "      <th>9</th>\n",
       "      <td>https://www.amazon.co.jp//%E3%82%B8%E3%83%A7%E...</td>\n",
       "    </tr>\n",
       "    <tr>\n",
       "      <th>10</th>\n",
       "      <td>https://www.amazon.co.jp//%E5%B8%B0%E9%82%84/d...</td>\n",
       "    </tr>\n",
       "    <tr>\n",
       "      <th>11</th>\n",
       "      <td>https://www.amazon.co.jp//%E3%82%B8%E3%83%A7%E...</td>\n",
       "    </tr>\n",
       "    <tr>\n",
       "      <th>12</th>\n",
       "      <td>https://www.amazon.co.jp//%E3%82%B8%E3%83%A7%E...</td>\n",
       "    </tr>\n",
       "    <tr>\n",
       "      <th>13</th>\n",
       "      <td>https://www.amazon.co.jp//%E7%AC%AC1%E8%A9%B1-...</td>\n",
       "    </tr>\n",
       "    <tr>\n",
       "      <th>14</th>\n",
       "      <td>https://www.amazon.co.jp//%E8%B6%85%E9%9B%BB%E...</td>\n",
       "    </tr>\n",
       "    <tr>\n",
       "      <th>15</th>\n",
       "      <td>https://www.amazon.co.jp//%E7%AC%AC4%E8%A9%B1%...</td>\n",
       "    </tr>\n",
       "  </tbody>\n",
       "</table>\n",
       "</div>"
      ],
      "text/plain": [
       "                                                    0\n",
       "0   https://www.amazon.co.jp//%E7%AC%AC%EF%BC%94%E...\n",
       "1   https://www.amazon.co.jp//%E7%AC%AC55%E8%A9%B1...\n",
       "2   https://www.amazon.co.jp//%E7%AC%AC73%E8%A9%B1...\n",
       "3   https://www.amazon.co.jp//%E4%BA%8C%E3%81%A4%E...\n",
       "4   https://www.amazon.co.jp//%E9%BB%92%E7%AB%9C%E...\n",
       "5   https://www.amazon.co.jp//%E8%A6%9A%E6%82%9F/d...\n",
       "6   https://www.amazon.co.jp//%E3%80%8E%E6%96%B0%E...\n",
       "7   https://www.amazon.co.jp//%E3%80%8E%E9%9D%99%E...\n",
       "8   https://www.amazon.co.jp//%E3%82%B8%E3%83%A7%E...\n",
       "9   https://www.amazon.co.jp//%E3%82%B8%E3%83%A7%E...\n",
       "10  https://www.amazon.co.jp//%E5%B8%B0%E9%82%84/d...\n",
       "11  https://www.amazon.co.jp//%E3%82%B8%E3%83%A7%E...\n",
       "12  https://www.amazon.co.jp//%E3%82%B8%E3%83%A7%E...\n",
       "13  https://www.amazon.co.jp//%E7%AC%AC1%E8%A9%B1-...\n",
       "14  https://www.amazon.co.jp//%E8%B6%85%E9%9B%BB%E...\n",
       "15  https://www.amazon.co.jp//%E7%AC%AC4%E8%A9%B1%..."
      ]
     },
     "execution_count": 20,
     "metadata": {},
     "output_type": "execute_result"
    }
   ],
   "source": [
    "# データフレーム型に格納\n",
    "df = pd.DataFrame(links)\n",
    "df"
   ]
  },
  {
   "cell_type": "code",
   "execution_count": 22,
   "id": "60e909d7",
   "metadata": {
    "scrolled": true
   },
   "outputs": [
    {
     "ename": "NameError",
     "evalue": "name 'df1' is not defined",
     "output_type": "error",
     "traceback": [
      "\u001b[1;31m---------------------------------------------------------------------------\u001b[0m",
      "\u001b[1;31mNameError\u001b[0m                                 Traceback (most recent call last)",
      "Cell \u001b[1;32mIn[22], line 3\u001b[0m\n\u001b[0;32m      1\u001b[0m \u001b[38;5;66;03m# CSVで保存\u001b[39;00m\n\u001b[1;32m----> 3\u001b[0m \u001b[43mdf1\u001b[49m\u001b[38;5;241m.\u001b[39mto_csv(\u001b[38;5;124m'\u001b[39m\u001b[38;5;124mLinks/Action&Adventure/page1.csv\u001b[39m\u001b[38;5;124m'\u001b[39m, index\u001b[38;5;241m=\u001b[39m\u001b[38;5;28;01mFalse\u001b[39;00m, encoding\u001b[38;5;241m=\u001b[39m\u001b[38;5;124m'\u001b[39m\u001b[38;5;124mutf-8-sig\u001b[39m\u001b[38;5;124m'\u001b[39m)\n",
      "\u001b[1;31mNameError\u001b[0m: name 'df1' is not defined"
     ]
    }
   ],
   "source": [
    "# CSVで保存\n",
    "\n",
    "df.to_csv('Links/Action&Adventure/page1.csv', index=False, encoding='utf-8-sig')"
   ]
  },
  {
   "cell_type": "code",
   "execution_count": null,
   "id": "d2918ac8",
   "metadata": {},
   "outputs": [],
   "source": []
  }
 ],
 "metadata": {
  "kernelspec": {
   "display_name": "Python 3 (ipykernel)",
   "language": "python",
   "name": "python3"
  },
  "language_info": {
   "codemirror_mode": {
    "name": "ipython",
    "version": 3
   },
   "file_extension": ".py",
   "mimetype": "text/x-python",
   "name": "python",
   "nbconvert_exporter": "python",
   "pygments_lexer": "ipython3",
   "version": "3.11.1"
  }
 },
 "nbformat": 4,
 "nbformat_minor": 5
}
